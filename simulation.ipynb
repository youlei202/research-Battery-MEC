{
 "cells": [
  {
   "cell_type": "markdown",
   "metadata": {},
   "source": [
    "# Cost-Optimal Task Scheduling in Battery Assisted Mobile Edge Computing"
   ]
  },
  {
   "cell_type": "markdown",
   "metadata": {},
   "source": [
    "## Baseline"
   ]
  },
  {
   "cell_type": "markdown",
   "metadata": {},
   "source": [
    "$\n",
    "\\begin{align}\n",
    "\\min_{\\mathbf{x}} \\quad & \\sum_{i}\\left[\\sum_{j\\in\\mathcal{B},j\\neq i}\\frac{p_i c_i^G}{\\mu_i}x_{ji} + \\sum_{j\\in\\mathcal{B},j\\neq i}\\left(c_{ij}-\\frac{p_i c_i^G}{\\mu_i}\\right)x_{ij}\\right] \\\\\n",
    "s.t. \\quad & \\sum_{j\\in\\mathcal{B}, j\\neq i} x_{ij}\\leq \\lambda_i,~i\\in\\mathcal{B} \\\\\n",
    "           & x_{ij}\\in\\mathbb{N},~i,j\\in\\mathcal{B},~i\\neq j\n",
    "\\end{align}\n",
    "$"
   ]
  },
  {
   "cell_type": "markdown",
   "metadata": {},
   "source": [
    "Let \n",
    "$$\n",
    "a_i = \\frac{p_i c_i^G}{\\mu_i}\\quad b_{ij}=\\left(c_{ij}-\\frac{p_i c_i^G}{\\mu_i}\\right)\n",
    "$$\n",
    "The problem is reformualted as follows.\n",
    "$\n",
    "\\begin{align}\n",
    "\\min_{\\mathbf{x}} \\quad & \\sum_{i}\\left[ \\sum_{j\\in\\mathcal{B}, j\\neq i}a_i x_{ji} + \\sum_{j\\in\\mathcal{B}, j\\neq i} b_{ij}x_{ij} \\right] \\\\\n",
    "s.t. \\quad & \\sum_{j\\in\\mathcal{B}, j\\neq i} x_{ij}\\leq \\lambda_i,~i\\in\\mathcal{B} \\\\\n",
    "           & x_{ij}\\in\\mathbb{N},~i,j\\in\\mathcal{B},~i\\neq j\n",
    "\\end{align}\n",
    "$"
   ]
  },
  {
   "cell_type": "markdown",
   "metadata": {},
   "source": [
    "<img src=\"networkflow.png\" alt=\"Drawing\" style=\"width: 600px;\"/>\n",
    "\n",
    "The weight $(u,v)$ from node $u$ to node $v$ follows\n",
    "$\n",
    "w_{uv} = a_v + b_{uv} \n",
    "$"
   ]
  },
  {
   "cell_type": "markdown",
   "metadata": {},
   "source": [
    "## Subproblem 1"
   ]
  },
  {
   "cell_type": "markdown",
   "metadata": {},
   "source": [
    "$\n",
    "\\begin{align}\n",
    "\\min_{\\mathbf{x}} \\quad & \\sum_{i}\\left[ \\sum_{j\\in\\mathcal{B}, j\\neq i}\\left(\\frac{p_i c_i^G}{\\mu_i} - \\frac{p_i\\pi_i}{\\mu_i}\\right)x_{ji} + \\sum_{j\\in\\mathcal{B}, j\\neq i} \\left(c_{ij} - \\frac{p_i c_i^G}{\\mu_i} + \\frac{p_i\\pi_i}{\\mu_i} \\right)x_{ij} \\right] \\\\\n",
    "s.t. \\quad & \\sum_{j\\in\\mathcal{B}, j\\neq i} x_{ij}\\leq \\lambda_i,~i\\in\\mathcal{B} \\\\\n",
    "           & x_{ij}\\in\\mathbb{N},~i,j\\in\\mathcal{B},~i\\neq j\n",
    "\\end{align}\n",
    "$"
   ]
  },
  {
   "cell_type": "markdown",
   "metadata": {},
   "source": [
    "Let \n",
    "$$\n",
    "a_i = \\left(\\frac{p_i c_i^G}{\\mu_i} - \\frac{p_i\\pi_i}{\\mu_i}\\right) \\quad b_{ij} = \\left(c_{ij} - \\frac{p_i c_i^G}{\\mu_i} + \\frac{p_i\\pi_i}{\\mu_i} \\right)\n",
    "$$\n",
    "The problem is reformualted the same as the baseline. \n"
   ]
  },
  {
   "cell_type": "markdown",
   "metadata": {},
   "source": [
    "## Subproblem 2"
   ]
  },
  {
   "cell_type": "markdown",
   "metadata": {},
   "source": [
    "$$\n",
    "\\forall i\\in\\mathcal{B}  \\quad \\min_{0\\leq P\\leq P_i^S} \\sum_{i}\\left[ \\alpha \\left(\\frac{P}{P_i^S}\\right)^{k_p} - P(c_i^G-c_i^D-\\pi_i) \\right]\n",
    "$$"
   ]
  },
  {
   "cell_type": "markdown",
   "metadata": {},
   "source": [
    "Define\n",
    "$$\n",
    "g(P) = \\alpha \\left(\\frac{P}{P_i^S}\\right)^{k_p} - P(c_i^G-c_i^D-\\pi_i)\n",
    "$$\n",
    "Let\n",
    "$$\n",
    "a_{i} = \\frac{\\alpha}{(P_i^S)^{k_p}}\\quad b_i = (c_i^G-c_i^D-\\pi_i)\n",
    "$$\n",
    "Then \n",
    "$$\n",
    "g(P) = a_i P^{k_p} -b_i P\n",
    "$$\n",
    "And \n",
    "$$\n",
    "g'(P) = a_i k_p P^{k_p-1} - b_i\n",
    "$$\n",
    "\n",
    "Therefore\n",
    "$$\n",
    "P^{*} = \\left\\{\n",
    "\\begin{array}{ll}\n",
    "\\left(\\frac{b_i}{a_i k_p}\\right)^{\\frac{1}{k_p-1}} & b_i \\geq 0 \\\\\n",
    " 0 & \\text{otherwise}\n",
    "\\end{array}\\right.\n",
    "$$\n"
   ]
  },
  {
   "cell_type": "code",
   "execution_count": 188,
   "metadata": {},
   "outputs": [],
   "source": [
    "%reload_ext autoreload\n",
    "%autoreload 2\n",
    "%aimport src\n",
    "\n",
    "from src.sp1 import NetworkFlowProblem\n",
    "import numpy as np\n",
    "from src.optimization import Problem, BaselineProblem\n",
    "\n",
    "N_list = [10, 20, 30, 40, 50]\n",
    "M = 20\n",
    "\n",
    "obj_list = []\n",
    "obj_baseline_list = []\n",
    "dual_bound_list =[]\n",
    "\n",
    "\n",
    "for N in N_list:\n",
    "    for k in range(M):\n",
    "\n",
    "        lam = np.random.uniform(low=20, high=50, size=N).round()\n",
    "        mu = np.random.uniform(low=1, high=5, size=N).round()\n",
    "        p = np.ones(N) \n",
    "        cG = np.random.uniform(low=0.5, high=2, size=N).round()\n",
    "        cD = np.ones(N) / 3\n",
    "        C = np.random.randint(0,10,size = (N,N))*0.1\n",
    "        alpha = 0.2\n",
    "        kp = 2\n",
    "        pS = np.ones(N) * 100\n",
    "\n",
    "        obj_samples = []\n",
    "        obj_baseline_samples = []\n",
    "        dual_bound_samples = []\n",
    "\n",
    "        problem = Problem(alpha=alpha, kp=kp, lam=lam, mu=mu, p=p, cG=cG, cD=cD, pS=pS, C=C)\n",
    "        baseline = BaselineProblem(alpha=alpha, kp=kp, lam=lam, mu=mu, p=p, cG=cG, cD=cD, pS=pS, C=C)   \n",
    "\n",
    "        obj, pD, X =problem.optimize(max_iter=20)\n",
    "        obj_baseline, pD_baseline, X_baseline = baseline.optimize()\n",
    "\n",
    "        obj_samples.append(obj)\n",
    "        obj_baseline_samples.append(obj_baseline)\n",
    "        dual_bound_samples.append(problem.best_dual)\n",
    "\n",
    "    obj_list.append(np.mean(obj))\n",
    "    obj_baseline_list.append(np.mean(obj_baseline))\n",
    "    dual_bound_list.append(np.mean(dual_bound_samples))\n"
   ]
  },
  {
   "cell_type": "code",
   "execution_count": 189,
   "metadata": {},
   "outputs": [
    {
     "name": "stdout",
     "output_type": "stream",
     "text": [
      "Objectives: [296.0, 1938.0000000000002, 4437.466666666666, 14035.933333333334, 12894.316666666668]\n",
      "Baselines: [945.8, 3952.8833333333337, 9034.800000000003, 21222.316666666666, 28260.88333333334]\n",
      "Bounds: [145.0, 1675.4, 3991.4999999999995, 13463.2, 12155.1]\n"
     ]
    }
   ],
   "source": [
    "print('Objectives:', obj_list)\n",
    "print('Baselines:', obj_baseline_list)\n",
    "print('Bounds:', dual_bound_list)"
   ]
  },
  {
   "cell_type": "code",
   "execution_count": 197,
   "metadata": {},
   "outputs": [
    {
     "data": {
      "image/png": "[encoded data removed]",
      "text/plain": [
       "<Figure size 1080x576 with 1 Axes>"
      ]
     },
     "metadata": {
      "needs_background": "light"
     },
     "output_type": "display_data"
    }
   ],
   "source": [
    "import pandas as pd\n",
    "ax = pd.DataFrame({\n",
    "    'Objective': obj_list,\n",
    "    'Baseline': obj_baseline_list,\n",
    "    'Bound': dual_bound_list,\n",
    "}).set_index(pd.Series(N_list)).plot(figsize=(15, 8), markersize=10, marker='o')\n",
    "\n",
    "ax.set_xlabel('N');\n",
    "ax.set_ylabel('Cost');\n",
    "ax.legend();"
   ]
  },
  {
   "cell_type": "code",
   "execution_count": 199,
   "metadata": {},
   "outputs": [],
   "source": [
    "fig, ax = problem.subproblem_1.visualize_flow(figsize=(16,20))\n",
    "fig.savefig('with_charging.png')"
   ]
  },
  {
   "cell_type": "code",
   "execution_count": 201,
   "metadata": {},
   "outputs": [],
   "source": [
    "baseline.problem.visualize_flow(figsize=(16,20))\n",
    "fig.savefig('without_charging.png')"
   ]
  },
  {
   "cell_type": "code",
   "execution_count": null,
   "metadata": {},
   "outputs": [
    {
     "data": {
      "text/plain": [
       "array([ 0.        , 38.75      , 16.75      ,  0.        ,  0.        ,\n",
       "       20.25      ,  0.        ,  0.        ,  0.        ,  7.66666667,\n",
       "        0.        , 19.75      ,  0.        ,  0.        , 43.2       ,\n",
       "       38.2       ,  0.        ,  0.        ,  0.        , 21.        ,\n",
       "       31.25      ,  0.        ,  0.        ,  0.        ,  0.        ,\n",
       "       22.        ,  0.        ,  0.        ,  0.        ,  0.        ,\n",
       "        0.        , 12.5       , 10.        , 43.4       ,  6.25      ,\n",
       "        0.        ,  0.        ,  0.        , 26.8       ,  0.        ,\n",
       "       20.5       ,  0.        ,  0.        ,  0.        ,  0.        ,\n",
       "        0.        ,  6.25      ,  0.        ,  0.        ,  0.        ])"
      ]
     },
     "execution_count": 120,
     "metadata": {},
     "output_type": "execute_result"
    }
   ],
   "source": [
    "problem.pD"
   ]
  },
  {
   "cell_type": "code",
   "execution_count": null,
   "metadata": {},
   "outputs": [
    {
     "data": {
      "text/plain": [
       "array([0., 0., 0., 0., 0., 0., 0., 0., 0., 0., 0., 0., 0., 0., 0., 0., 0.,\n",
       "       0., 0., 0., 0., 0., 0., 0., 0., 0., 0., 0., 0., 0., 0., 0., 0., 0.,\n",
       "       0., 0., 0., 0., 0., 0., 0., 0., 0., 0., 0., 0., 0., 0., 0., 0.])"
      ]
     },
     "execution_count": 121,
     "metadata": {},
     "output_type": "execute_result"
    }
   ],
   "source": [
    "baseline.pD"
   ]
  },
  {
   "cell_type": "code",
   "execution_count": null,
   "metadata": {},
   "outputs": [],
   "source": []
  }
 ],
 "metadata": {
  "kernelspec": {
   "display_name": "Python 3.9.7",
   "language": "python",
   "name": "python3"
  },
  "language_info": {
   "codemirror_mode": {
    "name": "ipython",
    "version": 3
   },
   "file_extension": ".py",
   "mimetype": "text/x-python",
   "name": "python",
   "nbconvert_exporter": "python",
   "pygments_lexer": "ipython3",
   "version": "3.9.7"
  },
  "orig_nbformat": 4,
  "vscode": {
   "interpreter": {
    "hash": "92c6059857cd90f886057b6540f3fbd9cbe057fa31156affeeed8e9dc40e6663"
   }
  }
 },
 "nbformat": 4,
 "nbformat_minor": 2
}
